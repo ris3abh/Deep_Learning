{
 "cells": [
  {
   "cell_type": "code",
   "execution_count": 39,
   "id": "ec5693f9",
   "metadata": {},
   "outputs": [],
   "source": [
    "import pandas as pd\n",
    "import numpy as np\n",
    "import matplotlib.pyplot as plt\n",
    "%matplotlib inline\n",
    "from sklearn import preprocessing\n",
    "import random "
   ]
  },
  {
   "cell_type": "code",
   "execution_count": 3,
   "id": "507c4a62",
   "metadata": {},
   "outputs": [
    {
     "data": {
      "text/html": [
       "<div>\n",
       "<style scoped>\n",
       "    .dataframe tbody tr th:only-of-type {\n",
       "        vertical-align: middle;\n",
       "    }\n",
       "\n",
       "    .dataframe tbody tr th {\n",
       "        vertical-align: top;\n",
       "    }\n",
       "\n",
       "    .dataframe thead th {\n",
       "        text-align: right;\n",
       "    }\n",
       "</style>\n",
       "<table border=\"1\" class=\"dataframe\">\n",
       "  <thead>\n",
       "    <tr style=\"text-align: right;\">\n",
       "      <th></th>\n",
       "      <th>area</th>\n",
       "      <th>bedrooms</th>\n",
       "      <th>price</th>\n",
       "    </tr>\n",
       "  </thead>\n",
       "  <tbody>\n",
       "    <tr>\n",
       "      <th>0</th>\n",
       "      <td>1056</td>\n",
       "      <td>2</td>\n",
       "      <td>39.07</td>\n",
       "    </tr>\n",
       "    <tr>\n",
       "      <th>1</th>\n",
       "      <td>2600</td>\n",
       "      <td>4</td>\n",
       "      <td>120.00</td>\n",
       "    </tr>\n",
       "    <tr>\n",
       "      <th>2</th>\n",
       "      <td>1440</td>\n",
       "      <td>3</td>\n",
       "      <td>62.00</td>\n",
       "    </tr>\n",
       "    <tr>\n",
       "      <th>3</th>\n",
       "      <td>1521</td>\n",
       "      <td>3</td>\n",
       "      <td>75.00</td>\n",
       "    </tr>\n",
       "    <tr>\n",
       "      <th>4</th>\n",
       "      <td>1200</td>\n",
       "      <td>2</td>\n",
       "      <td>51.00</td>\n",
       "    </tr>\n",
       "  </tbody>\n",
       "</table>\n",
       "</div>"
      ],
      "text/plain": [
       "   area  bedrooms   price\n",
       "0  1056         2   39.07\n",
       "1  2600         4  120.00\n",
       "2  1440         3   62.00\n",
       "3  1521         3   75.00\n",
       "4  1200         2   51.00"
      ]
     },
     "execution_count": 3,
     "metadata": {},
     "output_type": "execute_result"
    }
   ],
   "source": [
    "df = pd.read_csv('./homeprices_banglore.csv')\n",
    "df.head()"
   ]
  },
  {
   "cell_type": "code",
   "execution_count": 8,
   "id": "fe128b23",
   "metadata": {},
   "outputs": [
    {
     "data": {
      "text/plain": [
       "array([[0.08827586, 0.25      ],\n",
       "       [0.62068966, 0.75      ],\n",
       "       [0.22068966, 0.5       ],\n",
       "       [0.24862069, 0.5       ],\n",
       "       [0.13793103, 0.25      ],\n",
       "       [0.12758621, 0.25      ],\n",
       "       [0.6662069 , 0.75      ],\n",
       "       [0.86206897, 0.75      ],\n",
       "       [0.17586207, 0.5       ],\n",
       "       [1.        , 1.        ],\n",
       "       [0.34482759, 0.5       ],\n",
       "       [0.68448276, 0.75      ],\n",
       "       [0.06896552, 0.25      ],\n",
       "       [0.10344828, 0.25      ],\n",
       "       [0.5       , 0.5       ],\n",
       "       [0.12931034, 0.25      ],\n",
       "       [0.13103448, 0.5       ],\n",
       "       [0.25517241, 0.5       ],\n",
       "       [0.67931034, 0.5       ],\n",
       "       [0.        , 0.        ]])"
      ]
     },
     "execution_count": 8,
     "metadata": {},
     "output_type": "execute_result"
    }
   ],
   "source": [
    "sx = preprocessing.MinMaxScaler()\n",
    "sy = preprocessing.MinMaxScaler()\n",
    "\n",
    "scaled_X = sx.fit_transform(df.drop('price',axis = 'columns'))\n",
    "scaled_X"
   ]
  },
  {
   "cell_type": "code",
   "execution_count": 10,
   "id": "dea4570b",
   "metadata": {},
   "outputs": [
    {
     "data": {
      "text/plain": [
       "array([[0.05237037],\n",
       "       [0.65185185],\n",
       "       [0.22222222],\n",
       "       [0.31851852],\n",
       "       [0.14074074],\n",
       "       [0.04444444],\n",
       "       [0.76296296],\n",
       "       [0.91111111],\n",
       "       [0.13333333],\n",
       "       [1.        ],\n",
       "       [0.37037037],\n",
       "       [0.8       ],\n",
       "       [0.04444444],\n",
       "       [0.05925926],\n",
       "       [0.51111111],\n",
       "       [0.07407407],\n",
       "       [0.11851852],\n",
       "       [0.20740741],\n",
       "       [0.51851852],\n",
       "       [0.        ]])"
      ]
     },
     "execution_count": 10,
     "metadata": {},
     "output_type": "execute_result"
    }
   ],
   "source": [
    "scaled_Y = sy.fit_transform(df['price'].values.reshape(df.shape[0],1))\n",
    "scaled_Y"
   ]
  },
  {
   "cell_type": "markdown",
   "id": "09217ec2",
   "metadata": {},
   "source": [
    "## <font color = \"orange\">Batch</font> Gradient Descent"
   ]
  },
  {
   "cell_type": "code",
   "execution_count": 26,
   "id": "424ef2fd",
   "metadata": {},
   "outputs": [],
   "source": [
    "def batch_gradient_descent(X ,y_true ,epochs ,learning_rate = 0.01):\n",
    "    number_of_features = X.shape[1]\n",
    "    w = np.ones(shape = number_of_features)\n",
    "    b = 0\n",
    "    loss_list = []\n",
    "    epoch_list = []\n",
    "    total_samples = X.shape[0]\n",
    "    for i in range(epochs):\n",
    "        y_predicted = np.dot(w ,scaled_X.T) + b ## w1x1 +w2x2 + bias\n",
    "        w_grad = (-2/total_samples)*(X.T.dot(y_true - y_predicted))\n",
    "        b_grad = (-2/total_samples)*(np.sum(y_true - y_predicted))\n",
    "        \n",
    "        w = w - (learning_rate * w_grad)\n",
    "        b = b - (learning_rate * b_grad)\n",
    "        \n",
    "        loss = np.mean(np.square(y_true - y_predicted))\n",
    "        if i%10 == 0:\n",
    "            loss_list.append(loss)\n",
    "            epoch_list.append(i)\n",
    "            \n",
    "    return w ,b ,loss ,loss_list ,epoch_list"
   ]
  },
  {
   "cell_type": "code",
   "execution_count": 28,
   "id": "09a37f3a",
   "metadata": {},
   "outputs": [],
   "source": [
    " w ,b ,loss ,loss_list ,epoch_list = batch_gradient_descent(scaled_X ,scaled_Y.reshape(scaled_Y.shape[0],) ,500)"
   ]
  },
  {
   "cell_type": "code",
   "execution_count": 30,
   "id": "a2ad1d09",
   "metadata": {},
   "outputs": [
    {
     "data": {
      "text/plain": [
       "[<matplotlib.lines.Line2D at 0x7f6808ccb820>]"
      ]
     },
     "execution_count": 30,
     "metadata": {},
     "output_type": "execute_result"
    },
    {
     "data": {
      "image/png": "[encoded data removed]",
      "text/plain": [
       "<Figure size 432x288 with 1 Axes>"
      ]
     },
     "metadata": {
      "needs_background": "light"
     },
     "output_type": "display_data"
    }
   ],
   "source": [
    "plt.plot(epoch_list ,loss_list)"
   ]
  },
  {
   "cell_type": "code",
   "execution_count": 35,
   "id": "9f788bab",
   "metadata": {},
   "outputs": [],
   "source": [
    "def prediction_function(area ,bedroom ,w, b):\n",
    "    scaled_X = sx.transform([[area,bedroom]])[0]\n",
    "    scaled_price = w[0]*scaled_X[0] +w[1]*scaled_X[1] + b\n",
    "    return sy.inverse_transform([[scaled_price]])"
   ]
  },
  {
   "cell_type": "code",
   "execution_count": 38,
   "id": "e0542641",
   "metadata": {},
   "outputs": [
    {
     "data": {
      "text/plain": [
       "array([[32.09649526]])"
      ]
     },
     "execution_count": 38,
     "metadata": {},
     "output_type": "execute_result"
    }
   ],
   "source": [
    "prediction_function(1056, 2 ,w,b)"
   ]
  },
  {
   "cell_type": "markdown",
   "id": "ce9d31b9",
   "metadata": {},
   "source": [
    "## <font color = \"purple\">Stochastic</font> Gradient Descent"
   ]
  },
  {
   "cell_type": "code",
   "execution_count": 45,
   "id": "6d812056",
   "metadata": {},
   "outputs": [],
   "source": [
    "def stochastic_gradient_descent(X ,y_true ,epochs ,learning_rate = 0.01):\n",
    "    number_of_features = X.shape[1]\n",
    "    w = np.ones(shape = (number_of_features))\n",
    "    b = 0\n",
    "    total_samples = X.shape[0]\n",
    "    loss_list = []\n",
    "    epoch_list = []\n",
    "    for i in range(epochs):\n",
    "        random_index = random.randint(0 ,total_samples - 1)\n",
    "        sample_x = X[random_index]\n",
    "        sample_y = y_true[random_index]\n",
    "        y_predicted = np.dot(w ,sample_x.T) + b ## w1x1 +w2x2 + bias\n",
    "        w_grad = (-2/total_samples)*(sample_x.T.dot(sample_y - y_predicted))\n",
    "        b_grad = (-2/total_samples)*(np.sum(sample_y - y_predicted))\n",
    "        \n",
    "        w = w - (learning_rate * w_grad)\n",
    "        b = b - (learning_rate * b_grad)\n",
    "        \n",
    "        loss = np.mean(np.square(sample_y - y_predicted))\n",
    "        if i%10 == 0:\n",
    "            loss_list.append(loss)\n",
    "            epoch_list.append(i)\n",
    "            \n",
    "    return w ,b ,loss_list ,epoch_list"
   ]
  },
  {
   "cell_type": "code",
   "execution_count": 84,
   "id": "e8a5aa90",
   "metadata": {},
   "outputs": [],
   "source": [
    "w_sgd ,b_sgd ,loss_list_sgd ,epoch_list_sgd = stochastic_gradient_descent(scaled_X ,scaled_Y.reshape(scaled_Y.shape[0],),10000)"
   ]
  },
  {
   "cell_type": "code",
   "execution_count": 85,
   "id": "82205b68",
   "metadata": {},
   "outputs": [
    {
     "data": {
      "text/plain": [
       "(array([0.70968815, 0.67569151]), -0.23485408907654168)"
      ]
     },
     "execution_count": 85,
     "metadata": {},
     "output_type": "execute_result"
    }
   ],
   "source": [
    "w_sgd ,b_sgd"
   ]
  },
  {
   "cell_type": "code",
   "execution_count": 86,
   "id": "7e46a803",
   "metadata": {
    "scrolled": true
   },
   "outputs": [
    {
     "data": {
      "text/plain": [
       "[<matplotlib.lines.Line2D at 0x7f68088e04c0>]"
      ]
     },
     "execution_count": 86,
     "metadata": {},
     "output_type": "execute_result"
    },
    {
     "data": {
      "image/png": "[encoded data removed]",
      "text/plain": [
       "<Figure size 432x288 with 1 Axes>"
      ]
     },
     "metadata": {
      "needs_background": "light"
     },
     "output_type": "display_data"
    }
   ],
   "source": [
    "plt.plot(epoch_list_sgd ,loss_list_sgd)"
   ]
  },
  {
   "cell_type": "code",
   "execution_count": 60,
   "id": "e2cdeeb0",
   "metadata": {},
   "outputs": [
    {
     "data": {
      "text/plain": [
       "array([[121.85512665]])"
      ]
     },
     "execution_count": 60,
     "metadata": {},
     "output_type": "execute_result"
    }
   ],
   "source": [
    "prediction_function(2600 ,4 ,w_sgd ,b_sgd)"
   ]
  },
  {
   "cell_type": "markdown",
   "id": "8b556de1",
   "metadata": {},
   "source": [
    "## <font color = \"brown\">Mini Batch</font>Gradient Descent"
   ]
  },
  {
   "cell_type": "code",
   "execution_count": 68,
   "id": "bb194187",
   "metadata": {},
   "outputs": [],
   "source": [
    "def mini_batch_gradient_descent(X ,y_true ,epochs ,batch_size  ,learning_rate = 0.01):\n",
    "    number_of_features = X.shape[1]\n",
    "    w = np.ones(shape = (number_of_features))\n",
    "    b = 0\n",
    "    total_number_of_samples = X.shape[0]\n",
    "    if batch_size > total_number_of_samples:\n",
    "        batch_size = total_number_of_samples\n",
    "    loss_list = []\n",
    "    epoch_list = []\n",
    "    num_batches = int(total_number_of_samples/batch_size)\n",
    "    for i in range(epochs):\n",
    "        random_indices = np.random.permutation(total_number_of_samples)\n",
    "        X_tmp = X[random_indices]\n",
    "        y_tmp = y_true[random_indices]\n",
    "        for j in range(0,total_number_of_samples,batch_size):\n",
    "            Xj = X_tmp[j:j+batch_size]\n",
    "            yj = y_tmp[j:j+batch_size]\n",
    "            y_predicted = np.dot(w, Xj.T) + b\n",
    "            \n",
    "            w_grad = -(2/len(Xj))*(Xj.T.dot(yj-y_predicted))\n",
    "            b_grad = -(2/len(Xj))*np.sum(yj-y_predicted)\n",
    "            \n",
    "            w = w - learning_rate * w_grad\n",
    "            b = b - learning_rate * b_grad\n",
    "                \n",
    "            loss = np.mean(np.square(yj-y_predicted)) # MSE (Mean Squared Error)\n",
    "        if i%10==0:\n",
    "            loss_list.append(loss)\n",
    "            epoch_list.append(i)\n",
    "    return w, b, loss, loss_list, epoch_list\n",
    "        "
   ]
  },
  {
   "cell_type": "code",
   "execution_count": 75,
   "id": "bef7fed0",
   "metadata": {},
   "outputs": [],
   "source": [
    "w_mb ,b_mb ,loss_mb ,loss_list_mb ,epoch_list_mb = mini_batch_gradient_descent(scaled_X ,scaled_Y.reshape(scaled_Y.shape[0],),1000 ,5)"
   ]
  },
  {
   "cell_type": "code",
   "execution_count": 76,
   "id": "48ef83a7",
   "metadata": {},
   "outputs": [
    {
     "data": {
      "text/plain": [
       "(array([0.73003881, 0.4484862 ]), -0.12342964945964911)"
      ]
     },
     "execution_count": 76,
     "metadata": {},
     "output_type": "execute_result"
    }
   ],
   "source": [
    "w_mb ,b_mb"
   ]
  },
  {
   "cell_type": "code",
   "execution_count": 77,
   "id": "2e08a7f7",
   "metadata": {},
   "outputs": [
    {
     "data": {
      "text/plain": [
       "[<matplotlib.lines.Line2D at 0x7f6808915100>]"
      ]
     },
     "execution_count": 77,
     "metadata": {},
     "output_type": "execute_result"
    },
    {
     "data": {
      "image/png": "[encoded data removed]",
      "text/plain": [
       "<Figure size 432x288 with 1 Axes>"
      ]
     },
     "metadata": {
      "needs_background": "light"
     },
     "output_type": "display_data"
    }
   ],
   "source": [
    "plt.plot(epoch_list_mb ,loss_list_mb)"
   ]
  },
  {
   "cell_type": "code",
   "execution_count": null,
   "id": "0ec4142a",
   "metadata": {},
   "outputs": [],
   "source": []
  }
 ],
 "metadata": {
  "kernelspec": {
   "display_name": "Python 3",
   "language": "python",
   "name": "python3"
  },
  "language_info": {
   "codemirror_mode": {
    "name": "ipython",
    "version": 3
   },
   "file_extension": ".py",
   "mimetype": "text/x-python",
   "name": "python",
   "nbconvert_exporter": "python",
   "pygments_lexer": "ipython3",
   "version": "3.8.5"
  }
 },
 "nbformat": 4,
 "nbformat_minor": 5
}
