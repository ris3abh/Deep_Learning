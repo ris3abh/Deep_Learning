{
 "cells": [
  {
   "cell_type": "markdown",
   "id": "c3c35730",
   "metadata": {},
   "source": [
    "# Importing all the required libraries\n",
    "\n",
    "- ### Pandas\n",
    "- ### Numpy\n",
    "- ### Tensorflow\n",
    "- ### Keras\n",
    "- ### Matplotlib\n",
    "- ### Seaborn"
   ]
  },
  {
   "cell_type": "code",
   "execution_count": 63,
   "id": "a4fdea82",
   "metadata": {},
   "outputs": [],
   "source": [
    "import pandas as pd\n",
    "import numpy as np\n",
    "import tensorflow as tf\n",
    "from tensorflow import keras \n",
    "import seaborn as sn\n",
    "%matplotlib inline\n",
    "import matplotlib.pyplot as plt"
   ]
  },
  {
   "cell_type": "markdown",
   "id": "eca0abcf",
   "metadata": {},
   "source": [
    "### importing <font color='orange'>handwritten digits</font> from keras"
   ]
  },
  {
   "cell_type": "code",
   "execution_count": 7,
   "id": "d7401ba8",
   "metadata": {},
   "outputs": [],
   "source": [
    "(X_train, Y_train) ,(X_test, Y_test) = keras.datasets.mnist.load_data()"
   ]
  },
  {
   "cell_type": "code",
   "execution_count": 8,
   "id": "d7135a9e",
   "metadata": {},
   "outputs": [
    {
     "name": "stdout",
     "output_type": "stream",
     "text": [
      "total number of X training samples 60000\n",
      "total number of Y training samples 60000\n"
     ]
    }
   ],
   "source": [
    "print(\"total number of X training samples\",len(X_train))\n",
    "print(\"total number of values training samples\",len(Y_train))"
   ]
  },
  {
   "cell_type": "code",
   "execution_count": 19,
   "id": "e238ed3f",
   "metadata": {},
   "outputs": [
    {
     "name": "stdout",
     "output_type": "stream",
     "text": [
      "total number of X testing samples 10000\n",
      "total number of testing values of testing samples 10000\n"
     ]
    }
   ],
   "source": [
    "print(\"total number of X testing samples\",len(X_test))\n",
    "print(\"total number of testing values of testing samples\",len(Y_test))"
   ]
  },
  {
   "cell_type": "markdown",
   "id": "642fa6d6",
   "metadata": {},
   "source": [
    "## shape of the samples"
   ]
  },
  {
   "cell_type": "code",
   "execution_count": 10,
   "id": "44b99f84",
   "metadata": {},
   "outputs": [
    {
     "data": {
      "text/plain": [
       "(28, 28)"
      ]
     },
     "execution_count": 10,
     "metadata": {},
     "output_type": "execute_result"
    }
   ],
   "source": [
    "X_train[0].shape"
   ]
  },
  {
   "cell_type": "markdown",
   "id": "886acbcf",
   "metadata": {},
   "source": [
    "## how does the data array look ? (0 = <font color ='black'>BLACK</font> and 255 = <font color ='black'>WHITE</font> )"
   ]
  },
  {
   "cell_type": "code",
   "execution_count": 49,
   "id": "4b1ceffc",
   "metadata": {},
   "outputs": [],
   "source": [
    "## X_train[0]\n",
    "\n",
    "X_train = X_train / 255\n",
    "X_test = X_test / 255"
   ]
  },
  {
   "cell_type": "markdown",
   "id": "2171c789",
   "metadata": {},
   "source": [
    "## taking a look into some sample images and their values"
   ]
  },
  {
   "cell_type": "code",
   "execution_count": 50,
   "id": "da171e60",
   "metadata": {},
   "outputs": [
    {
     "name": "stdout",
     "output_type": "stream",
     "text": [
      "image: 38 value: 7\n",
      "image: 39 value: 6\n",
      "image: 40 value: 1\n"
     ]
    },
    {
     "data": {
      "image/png": "[encoded data removed]",
      "text/plain": [
       "<Figure size 288x288 with 1 Axes>"
      ]
     },
     "metadata": {
      "needs_background": "light"
     },
     "output_type": "display_data"
    },
    {
     "data": {
      "image/png": "[encoded data removed]",
      "text/plain": [
       "<Figure size 288x288 with 1 Axes>"
      ]
     },
     "metadata": {
      "needs_background": "light"
     },
     "output_type": "display_data"
    },
    {
     "data": {
      "image/png": "[encoded data removed]",
      "text/plain": [
       "<Figure size 288x288 with 1 Axes>"
      ]
     },
     "metadata": {
      "needs_background": "light"
     },
     "output_type": "display_data"
    }
   ],
   "source": [
    "for i in range(3):\n",
    "    plt.matshow(X_train[i+38])\n",
    "    print(\"image:\",i+38,\"value:\",Y_train[i+38])"
   ]
  },
  {
   "cell_type": "markdown",
   "id": "dcfeeeb7",
   "metadata": {},
   "source": [
    "## Flattening the training data from X_train shape = (60,000,28,28) to (60,000,784)"
   ]
  },
  {
   "cell_type": "code",
   "execution_count": 51,
   "id": "c260cb81",
   "metadata": {},
   "outputs": [],
   "source": [
    "X_train_F = X_train.reshape(len(X_train),28*28)\n",
    "X_test_F = X_test.reshape(len(X_test),28*28)"
   ]
  },
  {
   "cell_type": "code",
   "execution_count": 52,
   "id": "e63f0401",
   "metadata": {},
   "outputs": [
    {
     "name": "stdout",
     "output_type": "stream",
     "text": [
      "shape of X_train  : (60000, 28, 28)\n",
      "shape of X_train_F: (60000, 784)\n",
      "shape of X_test   : (10000, 28, 28)\n",
      "shape of X_test_F : (10000, 784)\n"
     ]
    }
   ],
   "source": [
    "print(\"shape of X_train  :\",X_train.shape)\n",
    "print(\"shape of X_train_F:\",X_train_F.shape)\n",
    "print(\"shape of X_test   :\",X_test.shape)\n",
    "print(\"shape of X_test_F :\",X_test_F.shape)"
   ]
  },
  {
   "cell_type": "markdown",
   "id": "fd7b6e6a",
   "metadata": {},
   "source": [
    "## Making a <font color=\"orange\">Simple Neural Network</font>"
   ]
  },
  {
   "cell_type": "code",
   "execution_count": 53,
   "id": "1d003b7a",
   "metadata": {},
   "outputs": [
    {
     "name": "stdout",
     "output_type": "stream",
     "text": [
      "Epoch 1/10\n",
      "1875/1875 [==============================] - 4s 1ms/step - loss: 0.7312 - accuracy: 0.8085\n",
      "Epoch 2/10\n",
      "1875/1875 [==============================] - 2s 1ms/step - loss: 0.3104 - accuracy: 0.9143\n",
      "Epoch 3/10\n",
      "1875/1875 [==============================] - 3s 1ms/step - loss: 0.2858 - accuracy: 0.9199\n",
      "Epoch 4/10\n",
      "1875/1875 [==============================] - 3s 1ms/step - loss: 0.2665 - accuracy: 0.9269\n",
      "Epoch 5/10\n",
      "1875/1875 [==============================] - 3s 1ms/step - loss: 0.2679 - accuracy: 0.9259\n",
      "Epoch 6/10\n",
      "1875/1875 [==============================] - 3s 1ms/step - loss: 0.2623 - accuracy: 0.9257\n",
      "Epoch 7/10\n",
      "1875/1875 [==============================] - 2s 1ms/step - loss: 0.2556 - accuracy: 0.9290\n",
      "Epoch 8/10\n",
      "1875/1875 [==============================] - 2s 1ms/step - loss: 0.2545 - accuracy: 0.9278\n",
      "Epoch 9/10\n",
      "1875/1875 [==============================] - 2s 1ms/step - loss: 0.2510 - accuracy: 0.9300\n",
      "Epoch 10/10\n",
      "1875/1875 [==============================] - 2s 1ms/step - loss: 0.2450 - accuracy: 0.9310\n"
     ]
    },
    {
     "data": {
      "text/plain": [
       "<tensorflow.python.keras.callbacks.History at 0x7feea5f93e50>"
      ]
     },
     "execution_count": 53,
     "metadata": {},
     "output_type": "execute_result"
    }
   ],
   "source": [
    "## creating stack of Layers\n",
    "model = keras.Sequential([\n",
    "    ## neurons from the layer is connected to every neural of second layer\n",
    "    ## 10 is output and input shape is 784 ,activation layer\n",
    "    keras.layers.Dense(10,input_shape = (784,),activation = \"sigmoid\")\n",
    "])\n",
    "\n",
    "model.compile(\n",
    "    optimizer = 'adam',\n",
    "    loss = 'sparse_categorical_crossentropy',\n",
    "    metrics = ['accuracy']\n",
    ")\n",
    "\n",
    "model.fit(X_train_F,Y_train,epochs = 10)"
   ]
  },
  {
   "cell_type": "markdown",
   "id": "c3b68756",
   "metadata": {},
   "source": [
    "## evaluating the model"
   ]
  },
  {
   "cell_type": "code",
   "execution_count": 54,
   "id": "1040baa2",
   "metadata": {},
   "outputs": [
    {
     "name": "stdout",
     "output_type": "stream",
     "text": [
      "313/313 [==============================] - 0s 1ms/step - loss: 0.2662 - accuracy: 0.9267\n"
     ]
    },
    {
     "data": {
      "text/plain": [
       "[0.2661532163619995, 0.9266999959945679]"
      ]
     },
     "execution_count": 54,
     "metadata": {},
     "output_type": "execute_result"
    }
   ],
   "source": [
    "model.evaluate(X_test_F,Y_test)"
   ]
  },
  {
   "cell_type": "code",
   "execution_count": 60,
   "id": "028029a5",
   "metadata": {},
   "outputs": [
    {
     "data": {
      "text/plain": [
       "array([6.8623424e-03, 1.7101430e-08, 1.5098989e-02, 9.7871459e-01,\n",
       "       2.0107925e-03, 1.8646759e-01, 4.2828397e-08, 9.9990147e-01,\n",
       "       1.1876139e-01, 6.8182057e-01], dtype=float32)"
      ]
     },
     "execution_count": 60,
     "metadata": {},
     "output_type": "execute_result"
    }
   ],
   "source": [
    "y_predicted = model.predict(X_test_F)\n",
    "y_predicted[0]"
   ]
  },
  {
   "cell_type": "code",
   "execution_count": 61,
   "id": "f585efd0",
   "metadata": {},
   "outputs": [
    {
     "data": {
      "text/plain": [
       "7"
      ]
     },
     "execution_count": 61,
     "metadata": {},
     "output_type": "execute_result"
    }
   ],
   "source": [
    "np.argmax(y_predicted[0])"
   ]
  },
  {
   "cell_type": "code",
   "execution_count": 62,
   "id": "447a89d4",
   "metadata": {},
   "outputs": [
    {
     "data": {
      "text/plain": [
       "[7, 2, 1, 0, 4, 1, 4, 9, 6, 9]"
      ]
     },
     "execution_count": 62,
     "metadata": {},
     "output_type": "execute_result"
    }
   ],
   "source": [
    "y_predicted_labels = [np.argmax(i) for i in y_predicted]\n",
    "y_predicted_labels[:10]"
   ]
  },
  {
   "cell_type": "markdown",
   "id": "9fa4c07a",
   "metadata": {},
   "source": [
    "## Plotting the confusion matrix"
   ]
  },
  {
   "cell_type": "code",
   "execution_count": 65,
   "id": "2c0177c9",
   "metadata": {},
   "outputs": [
    {
     "data": {
      "text/plain": [
       "Text(69.0, 0.5, 'Truth')"
      ]
     },
     "execution_count": 65,
     "metadata": {},
     "output_type": "execute_result"
    },
    {
     "data": {
      "image/png": "[encoded data removed]",
      "text/plain": [
       "<Figure size 720x504 with 2 Axes>"
      ]
     },
     "metadata": {
      "needs_background": "light"
     },
     "output_type": "display_data"
    }
   ],
   "source": [
    "cm = tf.math.confusion_matrix(labels=Y_test,predictions=y_predicted_labels)\n",
    "\n",
    "plt.figure(figsize = (10,7))\n",
    "sn.heatmap(cm, annot=True, fmt='d')\n",
    "plt.xlabel('Predicted')\n",
    "plt.ylabel('Truth')"
   ]
  },
  {
   "cell_type": "code",
   "execution_count": null,
   "id": "81ca1e12",
   "metadata": {},
   "outputs": [],
   "source": []
  }
 ],
 "metadata": {
  "kernelspec": {
   "display_name": "Python 3",
   "language": "python",
   "name": "python3"
  },
  "language_info": {
   "codemirror_mode": {
    "name": "ipython",
    "version": 3
   },
   "file_extension": ".py",
   "mimetype": "text/x-python",
   "name": "python",
   "nbconvert_exporter": "python",
   "pygments_lexer": "ipython3",
   "version": "3.8.5"
  }
 },
 "nbformat": 4,
 "nbformat_minor": 5
}
